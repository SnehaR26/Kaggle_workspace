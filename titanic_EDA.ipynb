import pandas as pd
import math
import matplotlib.pyplot as plt
import numpy as np
file = pd.read_csv("train.csv")
file[:0]
labels = 'male', 'female'
sizes = []
mcount=0
fcount=0
for i in range(len(file['PassengerId'])):
    if(file['Sex'][i] == 'male'):
        mcount+=1
    else:
        fcount+=1
sizes.append(mcount)
sizes.append(fcount)
fig1, ax1 = plt.subplots()
ax1.pie(sizes, labels=labels, autopct='%1.1f%%',
        shadow=True, startangle=90)
ax1.axis('equal')  
#Equal aspect ratio ensures that pie is drawn as a circle.

plt.show()

labels = 'male', 'female'
sizes = []
mcount=0
fcount=0
for i in range(len(file['PassengerId'])):
    if(file['Sex'][i] == 'male'):
        if(file['Survived'][i] == 0):
            mcount+=1
        else:
            fcount+=1
sizes.append(mcount)
sizes.append(fcount)
fig1, ax1 = plt.subplots()
ax1.pie(sizes, labels=labels, autopct='%1.1f%%',
        shadow=True, startangle=90)
ax1.axis('equal')  
#Equal aspect ratio ensures that pie is drawn as a circle.

plt.show()

labels = 'male', 'female'
sizes = []
mcount=0
fcount=0
for i in range(len(file['PassengerId'])):
    if(file['Sex'][i] == 'male'):
        if(file['Survived'][i] == 0):
            mcount+=1
        else:
            fcount+=1
sizes.append(mcount)
sizes.append(fcount)
fig1, ax1 = plt.subplots()
ax1.pie(sizes, labels=labels, autopct='%1.1f%%',
        shadow=True, startangle=90)
ax1.axis('equal')  
#Equal aspect ratio ensures that pie is drawn as a circle.

plt.show()
plt.grid()
plt.hist(file['Fare'])
plt.scatter(file['Age'], file['Fare'])
mage=[]
mfare=[]
for i in range(len(file['PassengerId'])):
    if(file['Sex'][i] == 'male'):
        mage.append(file['Age'][i])
        mfare.append(file['Fare'][i])

plt.scatter(mage,mfare)
fage=[]
ffare=[]
for i in range(len(file['PassengerId'])):
    if(file['Sex'][i] == 'female'):
        fage.append(file['Age'][i])
        ffare.append(file['Fare'][i])

plt.scatter(fage,ffare)

age_didnt_survive=[]
for i in range(len(file['PassengerId'])):
        if (file['Survived'][i] == 1) or math.isnan(file['Age'][i]) :
            continue
        else:
            age_didnt_survive.append(file['Age'][i])
        
plt.hist(age_didnt_survive)
plt.grid()
fare_didnt_survive=[]
for i in range(len(file['PassengerId'])):
        if (file['Survived'][i] == 1) or math.isnan(file['Fare'][i]) :
            continue
        else:
            fare_didnt_survive.append(file['Fare'][i])
        
plt.hist(fare_didnt_survive)
plt.grid()

class_didnt_survive=[]
for i in range(len(file['PassengerId'])):
        if (file['Survived'][i] == 1) or math.isnan(file['Pclass'][i]) :
            continue
        else:
            class_didnt_survive.append(file['Pclass'][i])
        
plt.hist(class_didnt_survive)
plt.grid()
gender_didnt_survive=[]
for i in range(len(file['PassengerId'])):
        if (file['Survived'][i] == 1):
            continue
        else:
            gender_didnt_survive.append(file['Sex'][i])
        
plt.hist(gender_didnt_survive)
plt.grid()
